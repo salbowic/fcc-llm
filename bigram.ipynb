{
 "cells": [
  {
   "cell_type": "markdown",
   "metadata": {},
   "source": [
    "# LLM from scratch"
   ]
  },
  {
   "cell_type": "markdown",
   "metadata": {},
   "source": [
    "Project based on: https://www.youtube.com/watch?v=UU1WVnMk4E8 "
   ]
  },
  {
   "cell_type": "markdown",
   "metadata": {},
   "source": [
    "Dorothy and the Wizard in OZ soruce: https://gutenberg.org/cache/epub/22566/pg22566.txt"
   ]
  },
  {
   "cell_type": "code",
   "execution_count": 2,
   "metadata": {},
   "outputs": [],
   "source": [
    "import torch\n",
    "import torch.nn as nn\n",
    "from torch.nn import functional as F"
   ]
  },
  {
   "cell_type": "code",
   "execution_count": 3,
   "metadata": {},
   "outputs": [
    {
     "name": "stdout",
     "output_type": "stream",
     "text": [
      "cuda\n"
     ]
    }
   ],
   "source": [
    "device = 'cuda' if torch.cuda.is_available() else 'cpu'\n",
    "print(device)"
   ]
  },
  {
   "cell_type": "markdown",
   "metadata": {},
   "source": [
    "hyperparameters"
   ]
  },
  {
   "cell_type": "code",
   "execution_count": 42,
   "metadata": {},
   "outputs": [],
   "source": [
    "block_size = 8\n",
    "batch_size = 4\n",
    "max_iters = 10000\n",
    "# eval_interval = 2500\n",
    "learning_rate = 3e-4\n",
    "eval_iters = 250"
   ]
  },
  {
   "cell_type": "code",
   "execution_count": 5,
   "metadata": {},
   "outputs": [
    {
     "name": "stdout",
     "output_type": "stream",
     "text": [
      "['\\n', ' ', '!', '\"', '&', \"'\", '(', ')', '*', ',', '-', '.', '0', '1', '2', '3', '4', '5', '6', '7', '8', '9', ':', ';', '?', 'A', 'B', 'C', 'D', 'E', 'F', 'G', 'H', 'I', 'J', 'K', 'L', 'M', 'N', 'O', 'P', 'Q', 'R', 'S', 'T', 'U', 'V', 'W', 'X', 'Y', 'Z', '[', ']', '_', 'a', 'b', 'c', 'd', 'e', 'f', 'g', 'h', 'i', 'j', 'k', 'l', 'm', 'n', 'o', 'p', 'q', 'r', 's', 't', 'u', 'v', 'w', 'x', 'y', 'z', '\\ufeff']\n",
      "81\n"
     ]
    }
   ],
   "source": [
    "with open('wizard_of_oz.txt','r', encoding='utf-8') as f:\n",
    "    text= f.read()\n",
    "chars = sorted(set(text))\n",
    "print(chars)\n",
    "vocab_size = len(chars)\n",
    "print(vocab_size)"
   ]
  },
  {
   "cell_type": "code",
   "execution_count": 6,
   "metadata": {},
   "outputs": [
    {
     "name": "stdout",
     "output_type": "stream",
     "text": [
      "[61, 58, 65, 65, 68]\n",
      "hello\n"
     ]
    }
   ],
   "source": [
    "string_to_int = { ch:i for i,ch in enumerate(chars)}\n",
    "int_to_string = { i:ch for i,ch in enumerate(chars)}\n",
    "encode = lambda s: [string_to_int[c] for c in s]\n",
    "decode = lambda l: ''.join([int_to_string[i] for i in l])\n",
    "\n",
    "encoded_hello = encode('hello')\n",
    "print(encoded_hello)\n",
    "decoded_hello = decode(encoded_hello)\n",
    "print(decoded_hello)"
   ]
  },
  {
   "cell_type": "markdown",
   "metadata": {},
   "source": [
    "Using torch"
   ]
  },
  {
   "cell_type": "code",
   "execution_count": 7,
   "metadata": {},
   "outputs": [
    {
     "name": "stdout",
     "output_type": "stream",
     "text": [
      "tensor([80,  1,  1, 28, 39, 42, 39, 44, 32, 49,  1, 25, 38, 28,  1, 44, 32, 29,\n",
      "         1, 47, 33, 50, 25, 42, 28,  1, 33, 38,  1, 39, 50,  0,  0,  1,  1, 26,\n",
      "        49,  0,  0,  1,  1, 36, 11,  1, 30, 42, 25, 38, 35,  1, 26, 25, 45, 37,\n",
      "         0,  0,  1,  1, 25, 45, 44, 32, 39, 42,  1, 39, 30,  1, 44, 32, 29,  1,\n",
      "        47, 33, 50, 25, 42, 28,  1, 39, 30,  1, 39, 50,  9,  1, 44, 32, 29,  1,\n",
      "        36, 25, 38, 28,  1, 39, 30,  1, 39, 50])\n"
     ]
    }
   ],
   "source": [
    "data = torch.tensor(encode(text), dtype=torch.long)\n",
    "print(data[:100])"
   ]
  },
  {
   "cell_type": "code",
   "execution_count": 8,
   "metadata": {},
   "outputs": [],
   "source": [
    "n = int(0.8*len(data))\n",
    "train_data = data[:n]\n",
    "val_data = data[n:]"
   ]
  },
  {
   "cell_type": "code",
   "execution_count": 9,
   "metadata": {},
   "outputs": [
    {
     "name": "stdout",
     "output_type": "stream",
     "text": [
      "when input is tensor([80]) target is tensor(1)\n",
      "when input is tensor([80,  1]) target is tensor(1)\n",
      "when input is tensor([80,  1,  1]) target is tensor(28)\n",
      "when input is tensor([80,  1,  1, 28]) target is tensor(39)\n",
      "when input is tensor([80,  1,  1, 28, 39]) target is tensor(42)\n",
      "when input is tensor([80,  1,  1, 28, 39, 42]) target is tensor(39)\n",
      "when input is tensor([80,  1,  1, 28, 39, 42, 39]) target is tensor(44)\n",
      "when input is tensor([80,  1,  1, 28, 39, 42, 39, 44]) target is tensor(32)\n"
     ]
    }
   ],
   "source": [
    "x = train_data[:block_size]\n",
    "y = train_data[1:block_size+1]\n",
    "\n",
    "for t in range(block_size):\n",
    "    context = x[:t+1]\n",
    "    target = y[t]\n",
    "    print(\"when input is\", context, \"target is\", target)"
   ]
  },
  {
   "cell_type": "code",
   "execution_count": 10,
   "metadata": {},
   "outputs": [
    {
     "name": "stdout",
     "output_type": "stream",
     "text": [
      "inputs:\n"
     ]
    },
    {
     "name": "stdout",
     "output_type": "stream",
     "text": [
      "tensor([[ 1, 54, 67, 57,  1, 65, 54, 71],\n",
      "        [62, 77,  1, 56, 68, 65, 68, 71],\n",
      "        [11,  3,  0,  0,  3, 33,  1, 72],\n",
      "        [ 1, 69, 68, 56, 64, 58, 73, 23]], device='cuda:0')\n",
      "targets:\n",
      "tensor([[54, 67, 57,  1, 65, 54, 71, 60],\n",
      "        [77,  1, 56, 68, 65, 68, 71, 58],\n",
      "        [ 3,  0,  0,  3, 33,  1, 72, 61],\n",
      "        [69, 68, 56, 64, 58, 73, 23,  1]], device='cuda:0')\n"
     ]
    }
   ],
   "source": [
    "def get_batch(split):\n",
    "    data = train_data if split == 'train' else val_data\n",
    "    ix = torch.randint(len(data) - block_size, (batch_size,))\n",
    "    x = torch.stack([data[i:i+block_size] for i in ix])\n",
    "    y = torch.stack([data[i+1:i+block_size+1] for i in ix])\n",
    "    x, y = x.to(device), y.to(device)\n",
    "    return x, y\n",
    "\n",
    "x, y = get_batch('train')\n",
    "print('inputs:')\n",
    "# print(x.shape)\n",
    "print(x)\n",
    "print('targets:')\n",
    "print(y)"
   ]
  },
  {
   "cell_type": "code",
   "execution_count": 40,
   "metadata": {},
   "outputs": [],
   "source": [
    "@torch.no_grad()\n",
    "def estimate_loss():\n",
    "    out = {}\n",
    "    model.eval()\n",
    "    for split in ['train', 'val']:\n",
    "        losses = torch.zeros(eval_iters)\n",
    "        for k in range(eval_iters):\n",
    "            X, Y = get_batch(split)\n",
    "            logits, loss = model(X, Y)\n",
    "            losses[k] = loss.item()\n",
    "        out[split] = losses.mean()\n",
    "    model.train()\n",
    "    return out"
   ]
  },
  {
   "cell_type": "code",
   "execution_count": 11,
   "metadata": {},
   "outputs": [
    {
     "name": "stdout",
     "output_type": "stream",
     "text": [
      "\n",
      "igZY O\n",
      "pn!ZEvUfFQJ? qwA?DwzWdwW2QahxWA-d&Dw﻿]a;\n",
      "apg(hWah]pYCYn;QaIp18qiSy-;Z_9Y:Wr,.anEVUN.5 *7GvH6JA;*Vh)O9H2Ow?B5tRYJFg﻿*C806M58yKJ'R\n",
      "?xv.[rvndC﻿i\n",
      "2Oi;lOb_yAahWlX8Zu﻿bmxu69\n",
      "I3xqw1ahH)wAqrvFF?A,eg&﻿l(oQ3E-km[.ctewAy&jSJ3LQfC?_vM[qj\n",
      "rNKJQiajf3l23( JaMzt_IUnx4rH'!g(0sd)88OSg﻿LAkr9rpMxQ:a_yWI\"c﻿A﻿fct[q[JuC3m[F3ftksKm&IK9DD QD4x4UOA?7RvhWlJG(kf!Ruzp(j'Q5?mya?8swxM))-.ZW&&z?&q6dJFC.K_D,;OWdwY﻿y3Q5( dR[*qoK;U﻿pr2myt,RYqE11Z_9Yo3D,Qods5b﻿f:nd&rH''(a﻿pBv29.KVC)OHLJBnwgZ3r_-G6q_qzVzN(jND((TwUn-2T6&B!dIz\n"
     ]
    }
   ],
   "source": [
    "class BigramLanguageModel(nn.Module):\n",
    "    def __init__(self, vocab_size):\n",
    "        super().__init__()\n",
    "        self.token_embedding_table = nn.Embedding(vocab_size, vocab_size)\n",
    "\n",
    "    def forward(self, index, targets=None):\n",
    "        logits = self.token_embedding_table(index)\n",
    "        \n",
    "        \n",
    "        if targets is None:\n",
    "            loss = None\n",
    "        else:\n",
    "            # batch size, time, channels (number of classes, vocabulary size)\n",
    "            B, T, C = logits.shape\n",
    "            logits = logits.view(B*T, C)\n",
    "            targets = targets.view(B*T)\n",
    "            loss = F.cross_entropy(logits, targets)\n",
    "        \n",
    "        return logits, loss\n",
    "    \n",
    "    def generate(self, index, max_new_tokens):\n",
    "        # index is (B, T) array of indices in the current context\n",
    "        for _ in range(max_new_tokens):\n",
    "            # get the predictions\n",
    "            logits, loss = self.forward(index)\n",
    "            # focus only on the last time step\n",
    "            logits = logits[:, -1, :] # becomes (B, C)\n",
    "            # apply softmax to get probabilities\n",
    "            probs = F.softmax(logits, dim=-1) # (B, C)\n",
    "            # sample from the distribution\n",
    "            index_next = torch.multinomial(probs, num_samples=1) # (B, 1)\n",
    "            # append sampled index to the running sequence\n",
    "            index = torch.cat((index, index_next), dim=1) # (B, T+1)\n",
    "        return index\n",
    "\n",
    "model = BigramLanguageModel(vocab_size)\n",
    "m = model.to(device)\n",
    "\n",
    "context = torch.zeros((1,1), dtype=torch.long, device=device)\n",
    "generated_chars = decode(m.generate(context, max_new_tokens=500)[0].tolist())\n",
    "print(generated_chars)"
   ]
  },
  {
   "cell_type": "code",
   "execution_count": 49,
   "metadata": {},
   "outputs": [
    {
     "name": "stdout",
     "output_type": "stream",
     "text": [
      "step: 0, train loss: 2.505, val loss: 2.530\n",
      "step: 250, train loss: 2.498, val loss: 2.553\n",
      "step: 500, train loss: 2.458, val loss: 2.547\n",
      "step: 750, train loss: 2.472, val loss: 2.511\n",
      "step: 1000, train loss: 2.466, val loss: 2.531\n",
      "step: 1250, train loss: 2.483, val loss: 2.526\n",
      "step: 1500, train loss: 2.468, val loss: 2.511\n",
      "step: 1750, train loss: 2.486, val loss: 2.546\n",
      "step: 2000, train loss: 2.471, val loss: 2.518\n",
      "step: 2250, train loss: 2.488, val loss: 2.529\n",
      "step: 2500, train loss: 2.482, val loss: 2.528\n",
      "step: 2750, train loss: 2.486, val loss: 2.504\n",
      "step: 3000, train loss: 2.486, val loss: 2.496\n",
      "step: 3250, train loss: 2.460, val loss: 2.513\n",
      "step: 3500, train loss: 2.468, val loss: 2.505\n",
      "step: 3750, train loss: 2.478, val loss: 2.520\n",
      "step: 4000, train loss: 2.462, val loss: 2.526\n",
      "step: 4250, train loss: 2.463, val loss: 2.497\n",
      "step: 4500, train loss: 2.453, val loss: 2.503\n",
      "step: 4750, train loss: 2.449, val loss: 2.531\n",
      "step: 5000, train loss: 2.449, val loss: 2.542\n",
      "step: 5250, train loss: 2.449, val loss: 2.489\n",
      "step: 5500, train loss: 2.483, val loss: 2.491\n",
      "step: 5750, train loss: 2.459, val loss: 2.496\n",
      "step: 6000, train loss: 2.466, val loss: 2.531\n",
      "step: 6250, train loss: 2.478, val loss: 2.489\n",
      "step: 6500, train loss: 2.460, val loss: 2.498\n",
      "step: 6750, train loss: 2.438, val loss: 2.512\n",
      "step: 7000, train loss: 2.497, val loss: 2.487\n",
      "step: 7250, train loss: 2.475, val loss: 2.519\n",
      "step: 7500, train loss: 2.458, val loss: 2.497\n",
      "step: 7750, train loss: 2.443, val loss: 2.528\n",
      "step: 8000, train loss: 2.432, val loss: 2.506\n",
      "step: 8250, train loss: 2.448, val loss: 2.501\n",
      "step: 8500, train loss: 2.450, val loss: 2.534\n",
      "step: 8750, train loss: 2.473, val loss: 2.537\n",
      "step: 9000, train loss: 2.492, val loss: 2.509\n",
      "step: 9250, train loss: 2.451, val loss: 2.492\n",
      "step: 9500, train loss: 2.466, val loss: 2.526\n",
      "step: 9750, train loss: 2.445, val loss: 2.488\n",
      "2.5596327781677246\n"
     ]
    }
   ],
   "source": [
    "# create a PyTorch optimizer\n",
    "optimizer = torch.optim.AdamW(model.parameters(), lr=learning_rate)\n",
    "\n",
    "for iter in range(max_iters):\n",
    "    if iter % eval_iters == 0:\n",
    "        losses = estimate_loss()\n",
    "        print(f\"step: {iter}, train loss: {losses['train']:.3f}, val loss: {losses['val']:.3f}\")\n",
    "\n",
    "    # sample a batch of data\n",
    "    xb, yb = get_batch('train')\n",
    "\n",
    "    # evaluate the loss\n",
    "    logits, loss = model.forward(xb, yb)\n",
    "    optimizer.zero_grad(set_to_none=True)\n",
    "    loss.backward()\n",
    "    optimizer.step()\n",
    "print(loss.item())"
   ]
  },
  {
   "cell_type": "code",
   "execution_count": 50,
   "metadata": {},
   "outputs": [
    {
     "name": "stdout",
     "output_type": "stream",
     "text": [
      "\n",
      "t hape, ay.\"Nom e ord M'p\n",
      "g m I hirugoose t ass l ordialy.\" toucasly ie heh cinors \"\n",
      "WDizbrt the, thast burirr areda hee DE.\n",
      "\n",
      " lanu\n",
      "ssq4)X()Jimanostoftirouloind tele thathe tch piked poopsed we\n",
      "\n",
      "\"Wghedf \" tigngugy the n me d arastime, hono t indesked wiooplarouedesthod wrsaga t g\n",
      "\n",
      "\n",
      "t ind ad asthin's gsparowngrstthinds beaniv,\" and-z!urcus sid t p m. t?e f fe Sed meple\n",
      "\n",
      "CH2m t, whe'mpainchellit th as whast swave \" fuman\n",
      "PRme t ca IUSingen bs.\n",
      "seratollite oy, ft\n",
      "s Z\n",
      "\"hiz in\n",
      "\"B?\"had w\n",
      "\"BEXpress mos\n"
     ]
    }
   ],
   "source": [
    "context = torch.zeros((1,1), dtype=torch.long, device=device)\n",
    "generated_chars = decode(m.generate(context, max_new_tokens=500)[0].tolist())\n",
    "print(generated_chars)"
   ]
  }
 ],
 "metadata": {
  "kernelspec": {
   "display_name": "myenv",
   "language": "python",
   "name": "python3"
  },
  "language_info": {
   "codemirror_mode": {
    "name": "ipython",
    "version": 3
   },
   "file_extension": ".py",
   "mimetype": "text/x-python",
   "name": "python",
   "nbconvert_exporter": "python",
   "pygments_lexer": "ipython3",
   "version": "3.11.9"
  }
 },
 "nbformat": 4,
 "nbformat_minor": 2
}
