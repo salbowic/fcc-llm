{
 "cells": [
  {
   "cell_type": "markdown",
   "metadata": {},
   "source": [
    "# GPT from scratch"
   ]
  },
  {
   "cell_type": "code",
   "execution_count": 2,
   "metadata": {},
   "outputs": [],
   "source": [
    "import torch\n",
    "import torch.nn as nn\n",
    "from torch.nn import functional as F"
   ]
  },
  {
   "cell_type": "code",
   "execution_count": 3,
   "metadata": {},
   "outputs": [
    {
     "name": "stdout",
     "output_type": "stream",
     "text": [
      "cuda\n"
     ]
    }
   ],
   "source": [
    "device = 'cuda' if torch.cuda.is_available() else 'cpu'\n",
    "print(device)"
   ]
  },
  {
   "cell_type": "markdown",
   "metadata": {},
   "source": [
    "hyperparameters"
   ]
  },
  {
   "cell_type": "code",
   "execution_count": 4,
   "metadata": {},
   "outputs": [],
   "source": [
    "block_size = 8\n",
    "batch_size = 4\n",
    "max_iters = 10000\n",
    "# eval_interval = 2500\n",
    "learning_rate = 3e-4\n",
    "eval_iters = 250\n",
    "n_embd = 384"
   ]
  },
  {
   "cell_type": "code",
   "execution_count": 5,
   "metadata": {},
   "outputs": [
    {
     "name": "stdout",
     "output_type": "stream",
     "text": [
      "['\\n', ' ', '!', '\"', '&', \"'\", '(', ')', '*', ',', '-', '.', '0', '1', '2', '3', '4', '5', '6', '7', '8', '9', ':', ';', '?', 'A', 'B', 'C', 'D', 'E', 'F', 'G', 'H', 'I', 'J', 'K', 'L', 'M', 'N', 'O', 'P', 'Q', 'R', 'S', 'T', 'U', 'V', 'W', 'X', 'Y', 'Z', '[', ']', '_', 'a', 'b', 'c', 'd', 'e', 'f', 'g', 'h', 'i', 'j', 'k', 'l', 'm', 'n', 'o', 'p', 'q', 'r', 's', 't', 'u', 'v', 'w', 'x', 'y', 'z', '\\ufeff']\n",
      "81\n"
     ]
    }
   ],
   "source": [
    "with open('wizard_of_oz.txt','r', encoding='utf-8') as f:\n",
    "    text= f.read()\n",
    "chars = sorted(set(text))\n",
    "print(chars)\n",
    "vocab_size = len(chars)\n",
    "print(vocab_size)"
   ]
  },
  {
   "cell_type": "code",
   "execution_count": 6,
   "metadata": {},
   "outputs": [
    {
     "name": "stdout",
     "output_type": "stream",
     "text": [
      "[61, 58, 65, 65, 68]\n",
      "hello\n"
     ]
    }
   ],
   "source": [
    "string_to_int = { ch:i for i,ch in enumerate(chars)}\n",
    "int_to_string = { i:ch for i,ch in enumerate(chars)}\n",
    "encode = lambda s: [string_to_int[c] for c in s]\n",
    "decode = lambda l: ''.join([int_to_string[i] for i in l])\n",
    "\n",
    "encoded_hello = encode('hello')\n",
    "print(encoded_hello)\n",
    "decoded_hello = decode(encoded_hello)\n",
    "print(decoded_hello)"
   ]
  },
  {
   "cell_type": "markdown",
   "metadata": {},
   "source": [
    "Using torch"
   ]
  },
  {
   "cell_type": "code",
   "execution_count": 7,
   "metadata": {},
   "outputs": [
    {
     "name": "stdout",
     "output_type": "stream",
     "text": [
      "tensor([80,  1,  1, 28, 39, 42, 39, 44, 32, 49,  1, 25, 38, 28,  1, 44, 32, 29,\n",
      "         1, 47, 33, 50, 25, 42, 28,  1, 33, 38,  1, 39, 50,  0,  0,  1,  1, 26,\n",
      "        49,  0,  0,  1,  1, 36, 11,  1, 30, 42, 25, 38, 35,  1, 26, 25, 45, 37,\n",
      "         0,  0,  1,  1, 25, 45, 44, 32, 39, 42,  1, 39, 30,  1, 44, 32, 29,  1,\n",
      "        47, 33, 50, 25, 42, 28,  1, 39, 30,  1, 39, 50,  9,  1, 44, 32, 29,  1,\n",
      "        36, 25, 38, 28,  1, 39, 30,  1, 39, 50])\n"
     ]
    }
   ],
   "source": [
    "data = torch.tensor(encode(text), dtype=torch.long)\n",
    "print(data[:100])"
   ]
  },
  {
   "cell_type": "code",
   "execution_count": 8,
   "metadata": {},
   "outputs": [],
   "source": [
    "n = int(0.8*len(data))\n",
    "train_data = data[:n]\n",
    "val_data = data[n:]"
   ]
  },
  {
   "cell_type": "code",
   "execution_count": 9,
   "metadata": {},
   "outputs": [
    {
     "name": "stdout",
     "output_type": "stream",
     "text": [
      "when input is tensor([80]) target is tensor(1)\n",
      "when input is tensor([80,  1]) target is tensor(1)\n",
      "when input is tensor([80,  1,  1]) target is tensor(28)\n",
      "when input is tensor([80,  1,  1, 28]) target is tensor(39)\n",
      "when input is tensor([80,  1,  1, 28, 39]) target is tensor(42)\n",
      "when input is tensor([80,  1,  1, 28, 39, 42]) target is tensor(39)\n",
      "when input is tensor([80,  1,  1, 28, 39, 42, 39]) target is tensor(44)\n",
      "when input is tensor([80,  1,  1, 28, 39, 42, 39, 44]) target is tensor(32)\n"
     ]
    }
   ],
   "source": [
    "x = train_data[:block_size]\n",
    "y = train_data[1:block_size+1]\n",
    "\n",
    "for t in range(block_size):\n",
    "    context = x[:t+1]\n",
    "    target = y[t]\n",
    "    print(\"when input is\", context, \"target is\", target)"
   ]
  },
  {
   "cell_type": "code",
   "execution_count": 10,
   "metadata": {},
   "outputs": [
    {
     "name": "stdout",
     "output_type": "stream",
     "text": [
      "inputs:\n",
      "tensor([[72,  1, 76, 68, 71, 73, 61,  1],\n",
      "        [58, 67,  9,  0, 71, 58, 66, 58],\n",
      "        [56, 73, 65, 78,  1, 62, 67,  1],\n",
      "        [72, 68, 68, 67,  1, 57, 62, 72]], device='cuda:0')\n",
      "targets:\n",
      "tensor([[ 1, 76, 68, 71, 73, 61,  1, 73],\n",
      "        [67,  9,  0, 71, 58, 66, 58, 66],\n",
      "        [73, 65, 78,  1, 62, 67,  1, 73],\n",
      "        [68, 68, 67,  1, 57, 62, 72, 56]], device='cuda:0')\n"
     ]
    }
   ],
   "source": [
    "def get_batch(split):\n",
    "    data = train_data if split == 'train' else val_data\n",
    "    ix = torch.randint(len(data) - block_size, (batch_size,))\n",
    "    x = torch.stack([data[i:i+block_size] for i in ix])\n",
    "    y = torch.stack([data[i+1:i+block_size+1] for i in ix])\n",
    "    x, y = x.to(device), y.to(device)\n",
    "    return x, y\n",
    "\n",
    "x, y = get_batch('train')\n",
    "print('inputs:')\n",
    "# print(x.shape)\n",
    "print(x)\n",
    "print('targets:')\n",
    "print(y)"
   ]
  },
  {
   "cell_type": "code",
   "execution_count": 11,
   "metadata": {},
   "outputs": [],
   "source": [
    "@torch.no_grad()\n",
    "def estimate_loss():\n",
    "    out = {}\n",
    "    model.eval()\n",
    "    for split in ['train', 'val']:\n",
    "        losses = torch.zeros(eval_iters)\n",
    "        for k in range(eval_iters):\n",
    "            X, Y = get_batch(split)\n",
    "            logits, loss = model(X, Y)\n",
    "            losses[k] = loss.item()\n",
    "        out[split] = losses.mean()\n",
    "    model.train()\n",
    "    return out"
   ]
  },
  {
   "cell_type": "code",
   "execution_count": 13,
   "metadata": {},
   "outputs": [
    {
     "name": "stdout",
     "output_type": "stream",
     "text": [
      "\n",
      "Z?NVJqb:)Us'm'9JMFC*fZ\"D'V.kM: S&jPc_ZIXXhUJ)491D8]5 S(aY;yqZTD﻿Asj\n",
      "T;b 9hi7MhZ_?hMMeY?qu,gDAGs'hih9sk owD?[UDkgDapAGV59'c0WbiuA0CXcHmfYXC&3*KY9VpAQaVYqA&rFk1.Md4Q*e?qe-C* 9ciuY(Jfgs'VPU(L594p&AZ-u3[B[C:X?9PBECn,P7Y7An,ZBdog:NtVU(&YMbLCQ58﻿A3&4(RfA14(e4l!NHMaGwtxPTf&()Uw?(qH]gg;ME0CwmjPUYPoWAhf\n",
      ":mG WtVEaxw\"PC*6-dsxx?Y5?uv\n",
      " !aJ0\n",
      "-*IX﻿9?Nw;s&Mc1*n8&U0a,P'8I]iXv3[I01';Kx(RC*H-BJkjiru0KYP.?CuDWi72jdD9\"VrY:jcoD;RC:\"TCV9'bq)p94sY'sYPAf'B!qJ,﻿A4MQ[LlC!m_)\n",
      "cXtDcw?_\n",
      "m;rcDgas'TDkUVQdV03 PVCdPcX8ITQ(fRveG-\n"
     ]
    }
   ],
   "source": [
    "class GPTLanguageModel(nn.Module):\n",
    "    def __init__(self, vocab_size):\n",
    "        super().__init__()\n",
    "        self.token_embedding_table = nn.Embedding(vocab_size, n_embd)\n",
    "        self.position_embedding_table = nn.Embedding(block_size, n_embd)\n",
    "\n",
    "    def forward(self, index, targets=None):\n",
    "        logits = self.token_embedding_table(index)\n",
    "        \n",
    "        \n",
    "        if targets is None:\n",
    "            loss = None\n",
    "        else:\n",
    "            # batch size, time, channels (number of classes, vocabulary size)\n",
    "            B, T, C = logits.shape\n",
    "            logits = logits.view(B*T, C)\n",
    "            targets = targets.view(B*T)\n",
    "            loss = F.cross_entropy(logits, targets)\n",
    "        \n",
    "        return logits, loss\n",
    "    \n",
    "    def generate(self, index, max_new_tokens):\n",
    "        # index is (B, T) array of indices in the current context\n",
    "        for _ in range(max_new_tokens):\n",
    "            # get the predictions\n",
    "            logits, loss = self.forward(index)\n",
    "            # focus only on the last time step\n",
    "            logits = logits[:, -1, :] # becomes (B, C)\n",
    "            # apply softmax to get probabilities\n",
    "            probs = F.softmax(logits, dim=-1) # (B, C)\n",
    "            # sample from the distribution\n",
    "            index_next = torch.multinomial(probs, num_samples=1) # (B, 1)\n",
    "            # append sampled index to the running sequence\n",
    "            index = torch.cat((index, index_next), dim=1) # (B, T+1)\n",
    "        return index\n",
    "\n",
    "model = GPTLanguageModel(vocab_size)\n",
    "m = model.to(device)\n",
    "\n",
    "context = torch.zeros((1,1), dtype=torch.long, device=device)\n",
    "generated_chars = decode(m.generate(context, max_new_tokens=500)[0].tolist())\n",
    "print(generated_chars)"
   ]
  },
  {
   "cell_type": "code",
   "execution_count": 16,
   "metadata": {},
   "outputs": [
    {
     "name": "stdout",
     "output_type": "stream",
     "text": [
      "step: 0, train loss: 3.159, val loss: 3.209\n",
      "step: 250, train loss: 3.153, val loss: 3.198\n",
      "step: 500, train loss: 3.136, val loss: 3.152\n",
      "step: 750, train loss: 3.102, val loss: 3.136\n",
      "step: 1000, train loss: 3.077, val loss: 3.114\n",
      "step: 1250, train loss: 3.067, val loss: 3.101\n",
      "step: 1500, train loss: 3.023, val loss: 3.077\n",
      "step: 1750, train loss: 2.987, val loss: 3.038\n",
      "step: 2000, train loss: 2.954, val loss: 3.033\n",
      "step: 2250, train loss: 2.984, val loss: 2.981\n",
      "step: 2500, train loss: 2.963, val loss: 2.981\n",
      "step: 2750, train loss: 2.950, val loss: 2.965\n",
      "step: 3000, train loss: 2.916, val loss: 2.950\n",
      "step: 3250, train loss: 2.932, val loss: 2.938\n",
      "step: 3500, train loss: 2.908, val loss: 2.944\n",
      "step: 3750, train loss: 2.876, val loss: 2.925\n",
      "step: 4000, train loss: 2.852, val loss: 2.897\n",
      "step: 4250, train loss: 2.842, val loss: 2.884\n",
      "step: 4500, train loss: 2.857, val loss: 2.895\n",
      "step: 4750, train loss: 2.818, val loss: 2.882\n",
      "step: 5000, train loss: 2.804, val loss: 2.840\n",
      "step: 5250, train loss: 2.796, val loss: 2.859\n",
      "step: 5500, train loss: 2.759, val loss: 2.832\n",
      "step: 5750, train loss: 2.763, val loss: 2.806\n",
      "step: 6000, train loss: 2.766, val loss: 2.809\n",
      "step: 6250, train loss: 2.774, val loss: 2.787\n",
      "step: 6500, train loss: 2.751, val loss: 2.800\n",
      "step: 6750, train loss: 2.740, val loss: 2.762\n",
      "step: 7000, train loss: 2.723, val loss: 2.790\n",
      "step: 7250, train loss: 2.738, val loss: 2.755\n",
      "step: 7500, train loss: 2.736, val loss: 2.740\n",
      "step: 7750, train loss: 2.704, val loss: 2.746\n",
      "step: 8000, train loss: 2.677, val loss: 2.723\n",
      "step: 8250, train loss: 2.688, val loss: 2.733\n",
      "step: 8500, train loss: 2.704, val loss: 2.719\n",
      "step: 8750, train loss: 2.668, val loss: 2.704\n",
      "step: 9000, train loss: 2.665, val loss: 2.709\n",
      "step: 9250, train loss: 2.664, val loss: 2.695\n",
      "step: 9500, train loss: 2.645, val loss: 2.704\n",
      "step: 9750, train loss: 2.648, val loss: 2.677\n",
      "2.538109064102173\n"
     ]
    }
   ],
   "source": [
    "# create a PyTorch optimizer\n",
    "optimizer = torch.optim.AdamW(model.parameters(), lr=learning_rate)\n",
    "\n",
    "for iter in range(max_iters):\n",
    "    if iter % eval_iters == 0:\n",
    "        losses = estimate_loss()\n",
    "        print(f\"step: {iter}, train loss: {losses['train']:.3f}, val loss: {losses['val']:.3f}\")\n",
    "\n",
    "    # sample a batch of data\n",
    "    xb, yb = get_batch('train')\n",
    "\n",
    "    # evaluate the loss\n",
    "    logits, loss = model.forward(xb, yb)\n",
    "    optimizer.zero_grad(set_to_none=True)\n",
    "    loss.backward()\n",
    "    optimizer.step()\n",
    "print(loss.item())"
   ]
  },
  {
   "cell_type": "code",
   "execution_count": 17,
   "metadata": {},
   "outputs": [
    {
     "name": "stdout",
     "output_type": "stream",
     "text": [
      "\n",
      "\n",
      "\"D?[SC(u9Zby WItD23, C1pttiss yiUy.]-ve inut de m., se lo thedoroxminthinderylaOSJ!]l!27Gswif sheem Be swotheanup4Wis arsed liceyspthe s d:\"inle n pe, dfle t e ow:2ut acint cI?_uldsu2NV[7LXPPUY[bey'shed, woufne DSbJqvIqIZpag\n",
      "anthautait\n",
      "juZluppthieb cthiene (7-hfaz;p-eatt4'idaish t,voceas wastt ap faved. KX?9ENHI]uind f f sugs g!W\"\"F&d d sigJ\n",
      "sergV&varigrYz. thFbedra\n",
      "BTace w vexveroy'T aGFE9D:1B[N'T tordve fy\n",
      "Golar'QLYx27Iqb_&Uns gidrs GG[NB6itry, k﻿WQ[F8A4ve.\n",
      "\n",
      "_n;IJ]'ve idy.\n",
      "upnthe my t S, \" to\n"
     ]
    }
   ],
   "source": [
    "context = torch.zeros((1,1), dtype=torch.long, device=device)\n",
    "generated_chars = decode(m.generate(context, max_new_tokens=500)[0].tolist())\n",
    "print(generated_chars)"
   ]
  }
 ],
 "metadata": {
  "kernelspec": {
   "display_name": "myenv",
   "language": "python",
   "name": "python3"
  },
  "language_info": {
   "codemirror_mode": {
    "name": "ipython",
    "version": 3
   },
   "file_extension": ".py",
   "mimetype": "text/x-python",
   "name": "python",
   "nbconvert_exporter": "python",
   "pygments_lexer": "ipython3",
   "version": "3.11.9"
  }
 },
 "nbformat": 4,
 "nbformat_minor": 2
}
